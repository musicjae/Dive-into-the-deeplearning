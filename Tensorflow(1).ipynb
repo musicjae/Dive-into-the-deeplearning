{
  "nbformat": 4,
  "nbformat_minor": 0,
  "metadata": {
    "colab": {
      "name": "Tensorflow(1).ipynb",
      "provenance": [],
      "authorship_tag": "ABX9TyMHrJTYh6vKzoe727rkus6R",
      "include_colab_link": true
    },
    "kernelspec": {
      "name": "python3",
      "display_name": "Python 3"
    },
    "accelerator": "GPU"
  },
  "cells": [
    {
      "cell_type": "markdown",
      "metadata": {
        "id": "view-in-github",
        "colab_type": "text"
      },
      "source": [
        "<a href=\"https://colab.research.google.com/github/musicjae/Dive-into-the-deeplearning/blob/master/Tensorflow(1).ipynb\" target=\"_parent\"><img src=\"https://colab.research.google.com/assets/colab-badge.svg\" alt=\"Open In Colab\"/></a>"
      ]
    },
    {
      "cell_type": "markdown",
      "metadata": {
        "id": "TxsERLgOh5YP",
        "colab_type": "text"
      },
      "source": [
        "# 1. 딥러닝 시작하기  \n",
        "  \n",
        "  **1.1 인공 신경망은 어떻게 학습하는가? **\n",
        "\n",
        "  신경망의 학습 과정은 가중치 최적화의 반복적인 과정으로 형성되고, 그러한 이유 탓에 지도 학습 유형에 포함된다. 이 가중치는 트레이닝 셋에 속한 예들의 집합에 대한 신경망의 수행능력을 기반으로 수정된다. 그 목적은 손실 함수를 최소화하게 만드는 것이다. 신경망의 수행능력은 (트레이닝 셋이 아니라) 대상을 구성하는 테스트 셋(가령 이미지 분류기 문제 내의 이미지)으로 증명된다.  \n",
        "  \n",
        "\n",
        "  **1.2 역전파 알고리즘**  \n",
        "  \n",
        "  사용된 지도 학습 알고리즘은 역전파 알고리즘이다. 이것은 다음과 같다:  \n",
        "  - 랜덤 가중치로 신경망을 초기화\n",
        "  - 모든 트레이닝 경우에 대해, 순전파 계산, 역전파 계산\n",
        "  - 오차 함수를 구해라.\n",
        "  - 오차 함수를 최소화하기 위해 현재 레이어에서 가중치를 채택하라. 이것은 역전파의 최적화 과정이다. 이 트레이닝 과정은 검증 집합의 오차가 증가하기 시작할 때 끝난다. 왜냐하면 이것은 신경망의 과적합 국면이 시작한다는 것을 나타내기 때문이다. \n",
        "\n",
        "\n",
        "  **1.3 가중치 초기화**  \n",
        "    \n",
        "가중치 초기화에 대한 효율적인 알고리즘을 이용하려면, 신경망의 구성에서 필수적인 도구를 사용해야 한다. 경사 하강법이라 불리는 반복적인 수치 분석을 가지고 이것을 사용해보자. 그 과정은 다음과 같다:  \n",
        "- 모델의 파라미터에 대한 일부 초깃값을 임의적으로 선택해라\n",
        "- 모델의 각 패러미터에 대한 오차 함수의 그래디언트 G를 계산하라.\n",
        "- 모델의 패러미터가 감소하는 방향으로 그것을 바꿔줘라.\n",
        "-위 과정을 G가 0에 근접할 때까지 반복하라.  \n",
        "(어떤 초기화 방법을 사용하느냐에 따라 얼마나 G가 0에 더 가까워질 수 있는가가 달라진다. 이것에 대한 탐구는 나중에.)  \n",
        "  \n",
        "\n",
        "  **1.4 확률적 경사 하강법**  \n",
        "    \n",
        "데이터셋이 매우 클 때, GD를 이용하는 것은 큰 비용을 요구한다. 분명히, 단 한번의 pass로 이 큰 데이터셋을 모두 사용하는 것은 부담스럽다. 뿐만 아니라, 이것은 알고리즘이 가중치를 업데이트하는 것을 더 느리게 만든다.  \n",
        "우리는 이 곤경을 해소하기 위해, 확률적 경사 하강법SGD를 사용한다. 여기서 우리는 특정 iter의 패러미터를 업데이트하기 위해 오직 트레이닝셋의 샘플(트레이닝 셋의 일부)만을 사용한다. 용어 '확률적stochastic'은 <단일 트레이닝 샘플에 기반한 그래디언트가 참인 비용 그래디언트의 확률적 근사라는 사실>에서 유래되었다.\n",
        "  \n",
        "    \n",
        "      \n"
      ]
    },
    {
      "cell_type": "markdown",
      "metadata": {
        "id": "pn8vqjFDnf7N",
        "colab_type": "text"
      },
      "source": [
        "# 2. 텐서플로우의 첫 걸음    \n",
        "  \n",
        "\n",
        "**2.1 계산 그래프 Computational Graphs ** \n",
        "  \n",
        "  신경 훈련 같은 연산을 수행할 때, 텐서플로우는 내부적으로 data flow graphs( computational graphs)를 사용하여 표현한다. 이것은 방향 그래프로 표현된다. 방향 그래프란 다음 같이 구성된다:  \n",
        "  - 각각이 연산을 표현하는 노드들의 집합\n",
        "  - 연산이 수행되는 데이터를 표현하는 방향이 있는 arc의 집합  \n",
        "    \n",
        "**2.2 왜 computational Graphs인가?  **\n",
        "\n",
        "계산 그래프의 단계를 만드는 동안, 세션 단계의 실행을 통해 그 그래프를 평가하고자 할 때 우리는 매우 복잡한 표현을 구성할 수 있다.  \n",
        "  \n",
        "  **2.3 프로그래밍 모델**  \n",
        "    \n",
        "텐서플로우 프로그램은 보통 다음 같이 3 가지 단계로 구분된다:  \n",
        "  \n",
        "- 계산 그래프 구성하기\n",
        "- 그래프에서 정의된 연산을 수행하는 세션을 실행하기\n",
        "- 자료를 collect, 분석\n",
        "  \n"
      ]
    },
    {
      "cell_type": "code",
      "metadata": {
        "id": "bkRFUyYarGdV",
        "colab_type": "code",
        "colab": {
          "base_uri": "https://localhost:8080/",
          "height": 68
        },
        "outputId": "362b640e-331c-415c-a380-3b0e3c2b180d"
      },
      "source": [
        "# 라이브러리 임포트\n",
        "from __future__ import absolute_import, division, print_function, unicode_literals\n",
        "\n",
        "!pip install -q tensorflow-gpu==2.0.0-rc1\n",
        "import tensorflow as tf\n",
        "\n",
        "from tensorflow.keras.layers import Dense, Flatten, Conv2D\n",
        "from tensorflow.keras import Model"
      ],
      "execution_count": 1,
      "outputs": [
        {
          "output_type": "stream",
          "text": [
            "\u001b[K     |████████████████████████████████| 380.5MB 45kB/s \n",
            "\u001b[K     |████████████████████████████████| 4.3MB 39.1MB/s \n",
            "\u001b[K     |████████████████████████████████| 501kB 41.1MB/s \n",
            "\u001b[?25h"
          ],
          "name": "stdout"
        }
      ]
    },
    {
      "cell_type": "code",
      "metadata": {
        "id": "jv5Zie6Drh9u",
        "colab_type": "code",
        "colab": {}
      },
      "source": [
        "# 데이터셋 로드\n",
        "\n",
        "mnist = tf.keras.datasets.mnist\n",
        "\n",
        "(x_train, y_train), (x_test, y_test) = mnist.load_data()\n",
        "x_train, x_test = x_train / 255.0, x_test / 255.0\n",
        "\n",
        "# 채널 차원을 추가합니다.\n",
        "x_train = x_train[..., tf.newaxis]\n",
        "x_test = x_test[..., tf.newaxis]\n"
      ],
      "execution_count": 25,
      "outputs": []
    },
    {
      "cell_type": "code",
      "metadata": {
        "id": "CIgT0RWmrzl8",
        "colab_type": "code",
        "colab": {}
      },
      "source": [
        "# 배치 만들기\n",
        "train_ds = tf.data.Dataset.from_tensor_slices(\n",
        "    (x_train, y_train)).shuffle(10000).batch(32)\n",
        "test_ds = tf.data.Dataset.from_tensor_slices((x_test, y_test)).batch(32)"
      ],
      "execution_count": 26,
      "outputs": []
    },
    {
      "cell_type": "code",
      "metadata": {
        "id": "-Ex0t9basA9h",
        "colab_type": "code",
        "colab": {}
      },
      "source": [
        "# 모델 만들기  \n",
        "class MyModel(Model):\n",
        "  def __init__(self):\n",
        "    super(MyModel, self).__init__()\n",
        "    self.conv1 = Conv2D(32, 3, activation='relu')\n",
        "    self.flatten = Flatten()\n",
        "    self.d1 = Dense(128, activation='relu')\n",
        "    self.d2 = Dense(10, activation='softmax')\n",
        "\n",
        "  def call(self, x):\n",
        "    x = self.conv1(x)\n",
        "    x = self.flatten(x)\n",
        "    x = self.d1(x)\n",
        "    return self.d2(x)\n",
        "\n",
        "model = MyModel()"
      ],
      "execution_count": 27,
      "outputs": []
    },
    {
      "cell_type": "code",
      "metadata": {
        "id": "x1pMwIM6sFcJ",
        "colab_type": "code",
        "colab": {}
      },
      "source": [
        "#옵티마이저, 손실 함수 선택\n",
        "\n",
        "loss_object = tf.keras.losses.SparseCategoricalCrossentropy()\n",
        "\n",
        "optimizer = tf.keras.optimizers.Adam()"
      ],
      "execution_count": 28,
      "outputs": []
    },
    {
      "cell_type": "code",
      "metadata": {
        "id": "Yc-EG2HjsI5o",
        "colab_type": "code",
        "colab": {}
      },
      "source": [
        "#모델의 손실과 성능을 측정할 지표를 선택합니다. 에포크가 진행되는 동안 수집된 측정 지표를 바탕으로 최종 결과를 출력합니다\n",
        "train_loss = tf.keras.metrics.Mean(name='train_loss')\n",
        "train_accuracy = tf.keras.metrics.SparseCategoricalAccuracy(name='train_accuracy')\n",
        "\n",
        "test_loss = tf.keras.metrics.Mean(name='test_loss')\n",
        "test_accuracy = tf.keras.metrics.SparseCategoricalAccuracy(name='test_accuracy')"
      ],
      "execution_count": 29,
      "outputs": []
    },
    {
      "cell_type": "code",
      "metadata": {
        "id": "OJzusUNFsQiJ",
        "colab_type": "code",
        "colab": {}
      },
      "source": [
        "# gradient tape 사용하여 모델 훈련시킴\n",
        "\n",
        "@tf.function\n",
        "def train_step(images, labels):\n",
        "  with tf.GradientTape() as tape:\n",
        "    predictions = model(images)\n",
        "    loss = loss_object(labels, predictions)\n",
        "  gradients = tape.gradient(loss, model.trainable_variables)\n",
        "  optimizer.apply_gradients(zip(gradients, model.trainable_variables))\n",
        "\n",
        "  train_loss(loss)\n",
        "  train_accuracy(labels, predictions)"
      ],
      "execution_count": 30,
      "outputs": []
    },
    {
      "cell_type": "code",
      "metadata": {
        "id": "fHQemlyCsWVh",
        "colab_type": "code",
        "colab": {}
      },
      "source": [
        "#모델 테스트\n",
        "@tf.function\n",
        "def test_step(images, labels):\n",
        "  predictions = model(images)\n",
        "  t_loss = loss_object(labels, predictions)\n",
        "\n",
        "  test_loss(t_loss)\n",
        "  test_accuracy(labels, predictions)"
      ],
      "execution_count": 31,
      "outputs": []
    },
    {
      "cell_type": "code",
      "metadata": {
        "id": "8phuk2BJsYyh",
        "colab_type": "code",
        "colab": {
          "base_uri": "https://localhost:8080/",
          "height": 462
        },
        "outputId": "145c808e-a095-4d3c-b321-8c0544563aec"
      },
      "source": [
        "EPOCHS = 5\n",
        "\n",
        "for epoch in range(EPOCHS):\n",
        "  for images, labels in train_ds:\n",
        "    train_step(images, labels)\n",
        "\n",
        "  for test_images, test_labels in test_ds:\n",
        "    test_step(test_images, test_labels)\n",
        "\n",
        "  template = '에포크: {}, 손실: {}, 정확도: {}, 테스트 손실: {}, 테스트 정확도: {}'\n",
        "  print (template.format(epoch+1,\n",
        "                         train_loss.result(),\n",
        "                         train_accuracy.result()*100,\n",
        "                         test_loss.result(),\n",
        "                         test_accuracy.result()*100))"
      ],
      "execution_count": 32,
      "outputs": [
        {
          "output_type": "stream",
          "text": [
            "WARNING:tensorflow:Entity <function train_step at 0x7fbe20311ae8> could not be transformed and will be executed as-is. Please report this to the AutoGraph team. When filing the bug, set the verbosity to 10 (on Linux, `export AUTOGRAPH_VERBOSITY=10`) and attach the full output. Cause: module 'gast' has no attribute 'Str'\n",
            "WARNING: Entity <function train_step at 0x7fbe20311ae8> could not be transformed and will be executed as-is. Please report this to the AutoGraph team. When filing the bug, set the verbosity to 10 (on Linux, `export AUTOGRAPH_VERBOSITY=10`) and attach the full output. Cause: module 'gast' has no attribute 'Str'\n",
            "WARNING:tensorflow:Layer my_model_2 is casting an input tensor from dtype float64 to the layer's dtype of float32, which is new behavior in TensorFlow 2.  The layer has dtype float32 because it's dtype defaults to floatx.\n",
            "\n",
            "If you intended to run this layer in float32, you can safely ignore this warning. If in doubt, this warning is likely only an issue if you are porting a TensorFlow 1.X model to TensorFlow 2.\n",
            "\n",
            "To change all layers to have dtype float64 by default, call `tf.keras.backend.set_floatx('float64')`. To change just this layer, pass dtype='float64' to the layer constructor. If you are the author of this layer, you can disable autocasting by passing autocast=False to the base Layer constructor.\n",
            "\n",
            "WARNING:tensorflow:Entity <bound method MyModel.call of <__main__.MyModel object at 0x7fbe269ee0f0>> could not be transformed and will be executed as-is. Please report this to the AutoGraph team. When filing the bug, set the verbosity to 10 (on Linux, `export AUTOGRAPH_VERBOSITY=10`) and attach the full output. Cause: Bad argument number for Name: 3, expecting 4\n",
            "WARNING: Entity <bound method MyModel.call of <__main__.MyModel object at 0x7fbe269ee0f0>> could not be transformed and will be executed as-is. Please report this to the AutoGraph team. When filing the bug, set the verbosity to 10 (on Linux, `export AUTOGRAPH_VERBOSITY=10`) and attach the full output. Cause: Bad argument number for Name: 3, expecting 4\n",
            "WARNING:tensorflow:Entity <function Function._initialize_uninitialized_variables.<locals>.initialize_variables at 0x7fbe205d87b8> could not be transformed and will be executed as-is. Please report this to the AutoGraph team. When filing the bug, set the verbosity to 10 (on Linux, `export AUTOGRAPH_VERBOSITY=10`) and attach the full output. Cause: module 'gast' has no attribute 'Num'\n",
            "WARNING: Entity <function Function._initialize_uninitialized_variables.<locals>.initialize_variables at 0x7fbe205d87b8> could not be transformed and will be executed as-is. Please report this to the AutoGraph team. When filing the bug, set the verbosity to 10 (on Linux, `export AUTOGRAPH_VERBOSITY=10`) and attach the full output. Cause: module 'gast' has no attribute 'Num'\n",
            "WARNING:tensorflow:Entity <bound method MyModel.call of <__main__.MyModel object at 0x7fbe269ee0f0>> could not be transformed and will be executed as-is. Please report this to the AutoGraph team. When filing the bug, set the verbosity to 10 (on Linux, `export AUTOGRAPH_VERBOSITY=10`) and attach the full output. Cause: Bad argument number for Name: 3, expecting 4\n",
            "WARNING: Entity <bound method MyModel.call of <__main__.MyModel object at 0x7fbe269ee0f0>> could not be transformed and will be executed as-is. Please report this to the AutoGraph team. When filing the bug, set the verbosity to 10 (on Linux, `export AUTOGRAPH_VERBOSITY=10`) and attach the full output. Cause: Bad argument number for Name: 3, expecting 4\n",
            "WARNING:tensorflow:Entity <function test_step at 0x7fbe20416ae8> could not be transformed and will be executed as-is. Please report this to the AutoGraph team. When filing the bug, set the verbosity to 10 (on Linux, `export AUTOGRAPH_VERBOSITY=10`) and attach the full output. Cause: module 'gast' has no attribute 'Str'\n",
            "WARNING: Entity <function test_step at 0x7fbe20416ae8> could not be transformed and will be executed as-is. Please report this to the AutoGraph team. When filing the bug, set the verbosity to 10 (on Linux, `export AUTOGRAPH_VERBOSITY=10`) and attach the full output. Cause: module 'gast' has no attribute 'Str'\n",
            "WARNING:tensorflow:Entity <bound method MyModel.call of <__main__.MyModel object at 0x7fbe269ee0f0>> could not be transformed and will be executed as-is. Please report this to the AutoGraph team. When filing the bug, set the verbosity to 10 (on Linux, `export AUTOGRAPH_VERBOSITY=10`) and attach the full output. Cause: Bad argument number for Name: 3, expecting 4\n",
            "WARNING: Entity <bound method MyModel.call of <__main__.MyModel object at 0x7fbe269ee0f0>> could not be transformed and will be executed as-is. Please report this to the AutoGraph team. When filing the bug, set the verbosity to 10 (on Linux, `export AUTOGRAPH_VERBOSITY=10`) and attach the full output. Cause: Bad argument number for Name: 3, expecting 4\n",
            "WARNING:tensorflow:Entity <bound method MyModel.call of <__main__.MyModel object at 0x7fbe269ee0f0>> could not be transformed and will be executed as-is. Please report this to the AutoGraph team. When filing the bug, set the verbosity to 10 (on Linux, `export AUTOGRAPH_VERBOSITY=10`) and attach the full output. Cause: Bad argument number for Name: 3, expecting 4\n",
            "WARNING: Entity <bound method MyModel.call of <__main__.MyModel object at 0x7fbe269ee0f0>> could not be transformed and will be executed as-is. Please report this to the AutoGraph team. When filing the bug, set the verbosity to 10 (on Linux, `export AUTOGRAPH_VERBOSITY=10`) and attach the full output. Cause: Bad argument number for Name: 3, expecting 4\n",
            "에포크: 1, 손실: 0.13989324867725372, 정확도: 95.86332702636719, 테스트 손실: 0.061647702008485794, 테스트 정확도: 98.0999984741211\n",
            "에포크: 2, 손실: 0.09087996184825897, 정확도: 97.29000091552734, 테스트 손실: 0.05698402598500252, 테스트 정확도: 98.18500518798828\n",
            "에포크: 3, 손실: 0.0680125281214714, 정확도: 97.95610809326172, 테스트 손실: 0.05636076629161835, 테스트 정확도: 98.2366714477539\n",
            "에포크: 4, 손실: 0.05440327152609825, 정확도: 98.35291290283203, 테스트 손실: 0.057044368237257004, 테스트 정확도: 98.2874984741211\n",
            "에포크: 5, 손실: 0.045300550758838654, 정확도: 98.62333679199219, 테스트 손실: 0.05826377868652344, 테스트 정확도: 98.29800415039062\n"
          ],
          "name": "stdout"
        }
      ]
    },
    {
      "cell_type": "markdown",
      "metadata": {
        "id": "8AnRp9H3ZOPs",
        "colab_type": "text"
      },
      "source": [
        "### (Review) 손실 함수  \n",
        "\n",
        "아래 같은 데이터를 가지고 우리는 회귀를 통해 학습 모델을 알고자 한다. 우리가 회귀를 사용하는 이유는 가령 $y=wx+b$인 모델이 있을 때 가장 잘 우리의 타겟을 예측하는 (가장 적합한) y를 구하기 위해 가장 좋은 w, b를 구하기 위함이다.\n"
      ]
    },
    {
      "cell_type": "code",
      "metadata": {
        "id": "4DgYazY-Yyan",
        "colab_type": "code",
        "colab": {
          "base_uri": "https://localhost:8080/",
          "height": 279
        },
        "outputId": "e331d40c-2957-48ea-f748-6ae91bfc26a0"
      },
      "source": [
        "import tensorflow as tf\n",
        "tf.compat.v1.disable_eager_execution() #텐서플로우 v2 에서도 실행 가능하게 하기\n",
        "import pandas as pd\n",
        "import matplotlib.pyplot as plt\n",
        "import seaborn as sns\n",
        "\n",
        "x_data = [2, 3, 3, 5, 7, 2, 8, 9, 6, 9, 6, 2]\n",
        "y_data = [3, 5, 7, 10, 12, 7, 13, 13, 12, 13, 12 ,6]\n",
        "\n",
        "W = tf.compat.v1.placeholder(tf.float32) \n",
        "b = tf.constant(0.0)\n",
        "predictions = W * x_data + b # 선형 회귀 모델\n",
        "\n",
        "loss = tf.reduce_mean(tf.square(y_data - predictions)) #평균 제곱 오차\n",
        "\n",
        "sess = tf.compat.v1.Session() \n",
        "sess.run(tf.compat.v1.global_variables_initializer())\n",
        "\n",
        "W_values = []\n",
        "loss_values = []\n",
        "\n",
        "for i in range(-30, 50): #-30 ~ 50 미포함\n",
        "    W_value = i * 0.1 #-3.0 ~ 5.0 미포함 \n",
        "    loss_value = sess.run(loss, feed_dict={W: W_value}) #W_value 입력 받기\n",
        "    #print(W_value, loss_value)\n",
        "    W_values.append(W_value)\n",
        "    loss_values.append(loss_value)\n",
        "\n",
        "df = pd.DataFrame({'W': W_values, 'loss': loss_values})\n",
        "sns.lineplot(x='W', y='loss', data=df)\n",
        "plt.show()"
      ],
      "execution_count": 8,
      "outputs": [
        {
          "output_type": "display_data",
          "data": {
            "image/png": "[encoded data removed]",
            "text/plain": [
              "<Figure size 432x288 with 1 Axes>"
            ]
          },
          "metadata": {
            "tags": [],
            "needs_background": "light"
          }
        }
      ]
    },
    {
      "cell_type": "markdown",
      "metadata": {
        "id": "ALO7XalDbLN9",
        "colab_type": "text"
      },
      "source": [
        "위 그래프를 보면, W가 약 1.6 - 1.8 일 때 손실이 가장 낮다."
      ]
    },
    {
      "cell_type": "code",
      "metadata": {
        "id": "P5FOHP_QwC7R",
        "colab_type": "code",
        "colab": {}
      },
      "source": [
        "from IPython.display import Image"
      ],
      "execution_count": 33,
      "outputs": []
    },
    {
      "cell_type": "markdown",
      "metadata": {
        "id": "wa5Ek2L9twau",
        "colab_type": "text"
      },
      "source": [
        "# 3. CNN  \n",
        "CNN은 실제에서 매우 좋은 결과를 달성하는 DNN이다. 이것은 특히 이미지의 대상 인식에서 좋은 성과를 낸다.  \n",
        "  \n",
        "    \n",
        "3.1 특징 인식과 합성곱  \n",
        "  \n",
        "  실제 이미지는 높은 수를 가진 픽셀로 구성된 grid와 연관된다. 한 픽셀에 상응하는 그리드 각각의 원소는 어떤 값을 갖는지에 따라 다른 색을 표현한다. 그레이 영역은 각 그리드 요소의 값이 0-255 사이에 있는데, 이때 0은 검정, 255는 하양이다.  \n",
        "    \n",
        "\n",
        "  색을 가진 이미지는 3 개의 행렬의 그룹으로 표현되는데, 각각의 행렬은 하나의 칼라 채널 (rgb)에 상응한다. 그리고 각 행렬의 각 요소는 근본적인 색의 밝기를 명시하는 간격[0,255] 에 따라 다르다. 이것은 아래 그림같이 표현된다:"
      ]
    },
    {
      "cell_type": "markdown",
      "metadata": {
        "id": "aFstHCQ2wbM4",
        "colab_type": "text"
      },
      "source": [
        "![대체 텍스트](https://www.filepicker.io/api/file/7auA4DAxRaGnxnBdHRj7)"
      ]
    },
    {
      "cell_type": "markdown",
      "metadata": {
        "id": "imje-4RFZSdb",
        "colab_type": "text"
      },
      "source": [
        "## Reference  \n",
        "\n",
        "[1] https://wikidocs.net/28099  \n",
        "[2] Giancarlo Zaccone, et al, \"Deep Learning with TensorFlow\", Packt  \n",
        "[3] https://www.tensorflow.org/tutorials/quickstart/advanced"
      ]
    }
  ]
}