{
  "nbformat": 4,
  "nbformat_minor": 0,
  "metadata": {
    "colab": {
      "name": "My Small Lab.ipynb",
      "provenance": [],
      "private_outputs": true,
      "authorship_tag": "ABX9TyPv2hbu8EzyXo5SGtiGTfgT",
      "include_colab_link": true
    },
    "kernelspec": {
      "name": "python3",
      "display_name": "Python 3"
    },
    "accelerator": "GPU"
  },
  "cells": [
    {
      "cell_type": "markdown",
      "metadata": {
        "id": "view-in-github",
        "colab_type": "text"
      },
      "source": [
        "<a href=\"https://colab.research.google.com/github/musicjae/Dive-into-the-deeplearning/blob/master/linear%20regression.ipynb\" target=\"_parent\"><img src=\"https://colab.research.google.com/assets/colab-badge.svg\" alt=\"Open In Colab\"/></a>"
      ]
    },
    {
      "cell_type": "code",
      "metadata": {
        "id": "ttkbGpV0T0zX",
        "colab_type": "code",
        "colab": {}
      },
      "source": [
        "!pip install d2l==0.14.1"
      ],
      "execution_count": null,
      "outputs": []
    },
    {
      "cell_type": "code",
      "metadata": {
        "id": "KR1LArzcT6jv",
        "colab_type": "code",
        "colab": {}
      },
      "source": [
        "%matplotlib inline\n",
        "from d2l import tensorflow as d2l\n",
        "import tensorflow as tf\n",
        "import random"
      ],
      "execution_count": null,
      "outputs": []
    },
    {
      "cell_type": "markdown",
      "metadata": {
        "id": "D_CfGchTUb2v",
        "colab_type": "text"
      },
      "source": [
        "The true parameters generating our dataset will be  𝐰=[2,−3.4]⊤  and  𝑏=4.2 , and our synthetic labels will be assigned according to the following linear model with the noise term  𝜖 :\n",
        "\n",
        "𝐲=𝐗𝐰+𝑏+𝜖.\n",
        "\n",
        "𝜖 는 특징, 라벨에 대해 잠재적인 측정 오차를 포착해내는 것으로 간주한다. 우리는 표준 가정이 성립한다고 가정할 것이고 따라서 𝜖 는 0의 평균값을 가진 정규 분포를 따른다. 문제를 쉽게 하기 위해 표준 편차를 0.01 이라고 하자. "
      ]
    },
    {
      "cell_type": "code",
      "metadata": {
        "id": "8olBqZYdUdQL",
        "colab_type": "code",
        "colab": {}
      },
      "source": [
        "def synthetic_data(w, b, num_examples):  #@save\n",
        "    \"\"\"Generate y = Xw + b + noise.\"\"\"\n",
        "    X = tf.zeros((num_examples, w.shape[0]))\n",
        "    X += tf.random.normal(shape=X.shape)\n",
        "    y = tf.matmul(X, tf.reshape(w, (-1, 1))) + b\n",
        "    y += tf.random.normal(shape=y.shape, stddev=0.01)\n",
        "    y = tf.reshape(y, (-1, 1))\n",
        "    return X, y\n",
        "\n",
        "true_w = tf.constant([2, -3.4])\n",
        "true_b = 4.2\n",
        "features, labels = synthetic_data(true_w, true_b, 1000)\n",
        "\n",
        "print('features:', features[0],'\\nlabel:', labels[0])\n"
      ],
      "execution_count": null,
      "outputs": []
    },
    {
      "cell_type": "code",
      "metadata": {
        "id": "FpXG-kW-XEBw",
        "colab_type": "code",
        "colab": {}
      },
      "source": [
        "d2l.set_figsize()\n",
        "# The semicolon is for displaying the plot only\n",
        "d2l.plt.scatter(d2l.numpy(features[:, 1]), d2l.numpy(labels), 1);"
      ],
      "execution_count": null,
      "outputs": []
    },
    {
      "cell_type": "markdown",
      "metadata": {
        "id": "1Lp4b7CrXMUi",
        "colab_type": "text"
      },
      "source": [
        "우리는 위 그림에서 두 그룹 간의 선형적 상관성을 볼 수 있다. ex의 미니배치 고르기를 회상해보자. 이들을 사용하여 모델을 업데이트 해보자. 이 과정은 기계 학습 알고리즘을 학습하기에 근본적인 것이기 때문에 데이터셋을 섞기 위해 효용 함수를 정의하고, 미니배치 내의 그것에 접근하는 것은 가치가 있다.\n",
        "\n",
        "아래 코드는 이 함수성의 가능한 수행을 보여준다. 이 함수는 배치 사이즈, 특징의 행렬, 라벨의 벡터를 취하고, 미니배치 사이즈를 산출시킨다. 각 미니배치는 특징과 라벨의 튜플로 구성된다."
      ]
    },
    {
      "cell_type": "code",
      "metadata": {
        "id": "A7LdU-dVYO0I",
        "colab_type": "code",
        "colab": {}
      },
      "source": [
        "def data_iter(batch_size, features, labels):\n",
        "\n",
        "    num_examples = len(features)\n",
        "    indices = list(range(num_examples))\n",
        "    random.shuffle(indices)\n",
        "    for i in range(0, num_examples, batch_size): # 0~ 사례들 개수로 배치사이즈 보폭으로 iter\n",
        "        j = tf.constant(indices[i: min(i+batch_size, num_examples)]) # ??\n",
        "        yield tf.gather(features, j), tf.gather(labels, j)\n",
        "\n",
        "batch_size = 10\n",
        "\n",
        "for X, y in data_iter(batch_size, features, labels):\n",
        "    print(X, '\\n', y)\n",
        "    \n",
        "    break"
      ],
      "execution_count": null,
      "outputs": []
    },
    {
      "cell_type": "markdown",
      "metadata": {
        "id": "8vsoQnsCZ2Fo",
        "colab_type": "text"
      },
      "source": [
        "반복문이 도는 동안에, 전체 데이터셋이 다 떨어질 때까지 별개의 미니배치를 성공적으로 얻는다. 위에서 수행된 iter이 교육적인 목적에서 좋긴 하지만, 실제에서 이 방식은 비효율적이다. 가령, 우리는 메모리 내의 모든 데이터를 불러오고 많은 랜덤 메모리 접근을 수행하기를 요구받을 수 있다. "
      ]
    },
    {
      "cell_type": "markdown",
      "metadata": {
        "id": "janFCnK0abnV",
        "colab_type": "text"
      },
      "source": [
        "**모델 초기화**  \n",
        "  \n",
        "  미니배치 스토캐스틱 경사 하강법으로 모델의 모수를 최적화 하기 이전에, 우리는 먼저 어떤 모수를 가질 필요가 있다. 다음 코드는 표준 분포에서 랜덤 값을 샘플링함으로써 가중치를 초기화하는 것이다."
      ]
    },
    {
      "cell_type": "code",
      "metadata": {
        "id": "6kXttwQRavzw",
        "colab_type": "code",
        "colab": {}
      },
      "source": [
        "w = tf.Variable(tf.random.normal(shape=(2,1), mean=0, stddev=0.01), trainable = True)\n",
        "b = tf.Variable(tf.zeros(1), trainable = True)\n"
      ],
      "execution_count": null,
      "outputs": []
    },
    {
      "cell_type": "markdown",
      "metadata": {
        "id": "jJPfwi6GQ-po",
        "colab_type": "text"
      },
      "source": [
        "모수를 초기화한 이후에, 다음에 할 일은 그것들이 데이터에 잘 맞을 때까지 업데이트 시키는 것이다. 각각읭 업데이트는 모수에 대한 손실 함수의 그래디언트를 요구한다. 이 그래디언트를 고려할 때, 우리는 손실이 감소하는 방향으로 각 모수를 업데이트 시킬 수 있다."
      ]
    },
    {
      "cell_type": "markdown",
      "metadata": {
        "id": "6XVgrRyvRZOz",
        "colab_type": "text"
      },
      "source": [
        "### 모델 정의하기  \n",
        "  \n",
        "  다음으로, 우리는 모델을 그것의 입력값과 모수를 산출값과 관련하여 정의해야 한다. 선형 모델의 산출값을 계산하기 위해, 우리는 단지 입력값 특징 X와 모델 가중치 w의 점곱을 하고 바이어스 b를 각 예에 더하기만 하면 된다는 것을 회상해보자. 아래 Xw는 벡터이고 b는 스칼라이다. 브로드캐스팅 메커니즘은 아래 같이 subsec_bradcasting으로 기술된다. *우리가 벡터와 스칼라를 더할 때, 스칼라는 각 벡터의 component에 더해진다.*"
      ]
    },
    {
      "cell_type": "code",
      "metadata": {
        "id": "tl7dsLYHSPaW",
        "colab_type": "code",
        "colab": {}
      },
      "source": [
        "def linreg(X, w, b):  #@save\n",
        "    \"\"\"The linear regression model.\"\"\"\n",
        "    return tf.matmul(X, w) + b"
      ],
      "execution_count": null,
      "outputs": []
    },
    {
      "cell_type": "markdown",
      "metadata": {
        "id": "g1Qve_-VSSUz",
        "colab_type": "text"
      },
      "source": [
        "### 손실 함수 정의하기  \n",
        "  \n",
        "  우리 모델을 업데이트 하는 것은 손실 함수의 그래디언트를 요구하기 때문에, 우리는 손실 함수를 먼저 정의해야 한다. 여기서 우리는 sec_linear_regression으로 기술되는 제곱근 손실 함수를 사용할 것이다. 이 수행에서, 우리는 참값 y를 예측값 y_hat의 shape으로 변환할 필요가 있다. 다음 함수에 의해 반환된 결과는 또한 y_hat shape을 갖는다:"
      ]
    },
    {
      "cell_type": "code",
      "metadata": {
        "id": "enk0rTuwSreV",
        "colab_type": "code",
        "colab": {}
      },
      "source": [
        "def squared_loss(y_hat, y):\n",
        "\n",
        "    return (y_hat - tf.reshape(y, y_hat.shape)) **2 / 2"
      ],
      "execution_count": null,
      "outputs": []
    },
    {
      "cell_type": "markdown",
      "metadata": {
        "id": "EvPVmzV0S58e",
        "colab_type": "text"
      },
      "source": [
        "### 최적화 알고리즘 정의하기  \n",
        "  \n",
        "  이 책에서 소개하는 선형 모델이 아닌 다른 어떤 모델도 분석적으로 해결될 수 없다. 따라서 우리는 미니배치 스토캐스틱 경사 하강법을 소개할 기회를 가지려 한다.  \n",
        "  각 단계에서, 우리의 데이터셋에서 임의적으로 하나의 미니배치를 사용할 때, 우리는 모수에 대한 손실의 그래디언트를 평가할 것이다. 다음으로, 우리는 손실이 감소할 것 같은 방향으로 모수를 업데이트 시킬 것이다. 다음 코드는 모수, 학습률, 배치 사이즈를 고려할 때, 미니배치 스토캐스틱 경사하강법을 적용한다."
      ]
    },
    {
      "cell_type": "code",
      "metadata": {
        "id": "FGdPAw28T50E",
        "colab_type": "code",
        "colab": {}
      },
      "source": [
        "def sgd(params, grads, lr, batch_size):\n",
        "    for param, grad in zip(params, grads):\n",
        "\n",
        "        param.assign_sub(lr*grad/batch_size)"
      ],
      "execution_count": null,
      "outputs": []
    },
    {
      "cell_type": "markdown",
      "metadata": {
        "id": "gHzzJ1BYUDJe",
        "colab_type": "text"
      },
      "source": [
        "### 학습시키기\n",
        "\n",
        "<h5>학습 코드를 이해하는 것은 중요하다. 왜냐하면 너는 심층학습 커리어를 통틀어 계속 반복해서 거의 비슷한 학습 loop를 볼 것이기 떄문이다.  \n",
        "각 iter에서, 우리는 트레이닝 ex의 미니배치를 고르고, 이것을 예측 셋에 성립하도록 모델에 통과시킨다. \n",
        " 손실을 계산한 뒤, 우리는 각 모수에 대해 그래디언트를 저장하면서 연결망을 통해 역전파를 초기화한다.  \n",
        " 마지막으로, 우리는 모델 모수를 업데이트 시키기 위해 sgd 최적화 알고리즘을 불러온다.\n",
        "\n",
        "\n"
      ]
    },
    {
      "cell_type": "code",
      "metadata": {
        "id": "9YFbEVcqVwo4",
        "colab_type": "code",
        "colab": {}
      },
      "source": [
        "lr = 0.03\n",
        "num_epochs = 3\n",
        "net = linreg\n",
        "loss = squared_loss\n",
        "for epoch in range(num_epochs):\n",
        "    for X, y in data_iter(batch_size, features, labels):\n",
        "        with tf.GradientTape() as g:\n",
        "            l = loss(net(X, w, b), y)  # Minibatch loss in `X` and `y`\n",
        "        # Compute gradient on l with respect to [`w`, `b`]\n",
        "        dw, db = g.gradient(l, [w, b])\n",
        "        # Update parameters using their gradient\n",
        "        sgd([w, b], [dw, db], lr, batch_size)\n",
        "    train_l = loss(net(features, w, b), labels)\n",
        "    print(f'epoch {epoch + 1}, loss {float(tf.reduce_mean(train_l)):f}')"
      ],
      "execution_count": null,
      "outputs": []
    },
    {
      "cell_type": "markdown",
      "metadata": {
        "id": "BlapCSudXN8K",
        "colab_type": "text"
      },
      "source": [
        "이 경우에는 우리가 데이터셋을 스스로 종합했기 때문에, 우리는 참인 모수가 무엇인지 정확히 안다. 따라서 우리는 참인 모수와 우리가 학습 루프를 통해 학습한 것을 비교함으로써 학습이 성공적인지 평가할 수 있다. 이들은 거의 비슷하게 나타난다:"
      ]
    },
    {
      "cell_type": "code",
      "metadata": {
        "id": "uawkxeKoXY5m",
        "colab_type": "code",
        "colab": {}
      },
      "source": [
        "print(f'error in estimating w: {true_w - tf.reshape(w, true_w.shape)}')\n",
        "print(f'error in estimating b: {true_b - b}')"
      ],
      "execution_count": null,
      "outputs": []
    }
  ]
}